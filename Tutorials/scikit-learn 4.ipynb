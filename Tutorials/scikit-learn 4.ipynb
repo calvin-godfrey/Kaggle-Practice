{
 "cells": [
  {
   "cell_type": "code",
   "execution_count": 1,
   "metadata": {
    "collapsed": true
   },
   "outputs": [],
   "source": [
    "from sklearn.grid_search import GridSearchCV #Define a grid of parameterse that will be searched using K-fold cross-validation"
   ]
  },
  {
   "cell_type": "code",
   "execution_count": 3,
   "metadata": {
    "collapsed": false
   },
   "outputs": [
    {
     "name": "stdout",
     "output_type": "stream",
     "text": [
      "{'n_neighbors': [1, 2, 3, 4, 5, 6, 7, 8, 9, 10, 11, 12, 13, 14, 15, 16, 17, 18, 19, 20, 21, 22, 23, 24, 25, 26, 27, 28, 29, 30]}\n"
     ]
    }
   ],
   "source": [
    "k_range = range(1, 31)\n",
    "param_grid = dict(n_neighbors=k_range) #Map parameter names to list of values that should be searched\n",
    "print param_grid"
   ]
  },
  {
   "cell_type": "code",
   "execution_count": 4,
   "metadata": {
    "collapsed": true
   },
   "outputs": [],
   "source": [
    "from sklearn.datasets import load_iris\n",
    "from sklearn.neighbors import KNeighborsClassifier\n",
    "from sklearn.cross_validation import cross_val_score\n",
    "import matplotlib.pyplot as plt\n",
    "%matplotlib inline\n",
    "\n",
    "iris = load_iris()\n",
    "x = iris.data\n",
    "y = iris.target\n",
    "knn = KNeighborsClassifier(n_neighbors=5)\n",
    "cross_val_score(knn, x, y, cv=10, scoring='accuracy')\n",
    "grid = GridSearchCV(knn, param_grid, cv=10, scoring=\"accuracy\") #Setup the same, just w/o x and y\n",
    "                                                                #Can set n_jobs=-1 to compute in parallel"
   ]
  },
  {
   "cell_type": "code",
   "execution_count": 5,
   "metadata": {
    "collapsed": false
   },
   "outputs": [
    {
     "data": {
      "text/plain": [
       "GridSearchCV(cv=10, error_score='raise',\n",
       "       estimator=KNeighborsClassifier(algorithm='auto', leaf_size=30, metric='minkowski',\n",
       "           metric_params=None, n_jobs=1, n_neighbors=5, p=2,\n",
       "           weights='uniform'),\n",
       "       fit_params={}, iid=True, n_jobs=1,\n",
       "       param_grid={'n_neighbors': [1, 2, 3, 4, 5, 6, 7, 8, 9, 10, 11, 12, 13, 14, 15, 16, 17, 18, 19, 20, 21, 22, 23, 24, 25, 26, 27, 28, 29, 30]},\n",
       "       pre_dispatch='2*n_jobs', refit=True, scoring='accuracy', verbose=0)"
      ]
     },
     "execution_count": 5,
     "metadata": {},
     "output_type": "execute_result"
    }
   ],
   "source": [
    "grid.fit(x, y)"
   ]
  },
  {
   "cell_type": "code",
   "execution_count": 8,
   "metadata": {
    "collapsed": false
   },
   "outputs": [
    {
     "data": {
      "text/plain": [
       "[mean: 0.96000, std: 0.05333, params: {'n_neighbors': 1},\n",
       " mean: 0.95333, std: 0.05207, params: {'n_neighbors': 2},\n",
       " mean: 0.96667, std: 0.04472, params: {'n_neighbors': 3},\n",
       " mean: 0.96667, std: 0.04472, params: {'n_neighbors': 4},\n",
       " mean: 0.96667, std: 0.04472, params: {'n_neighbors': 5},\n",
       " mean: 0.96667, std: 0.04472, params: {'n_neighbors': 6},\n",
       " mean: 0.96667, std: 0.04472, params: {'n_neighbors': 7},\n",
       " mean: 0.96667, std: 0.04472, params: {'n_neighbors': 8},\n",
       " mean: 0.97333, std: 0.03266, params: {'n_neighbors': 9},\n",
       " mean: 0.96667, std: 0.04472, params: {'n_neighbors': 10},\n",
       " mean: 0.96667, std: 0.04472, params: {'n_neighbors': 11},\n",
       " mean: 0.97333, std: 0.03266, params: {'n_neighbors': 12},\n",
       " mean: 0.98000, std: 0.03055, params: {'n_neighbors': 13},\n",
       " mean: 0.97333, std: 0.04422, params: {'n_neighbors': 14},\n",
       " mean: 0.97333, std: 0.03266, params: {'n_neighbors': 15},\n",
       " mean: 0.97333, std: 0.03266, params: {'n_neighbors': 16},\n",
       " mean: 0.97333, std: 0.03266, params: {'n_neighbors': 17},\n",
       " mean: 0.98000, std: 0.03055, params: {'n_neighbors': 18},\n",
       " mean: 0.97333, std: 0.03266, params: {'n_neighbors': 19},\n",
       " mean: 0.98000, std: 0.03055, params: {'n_neighbors': 20},\n",
       " mean: 0.96667, std: 0.03333, params: {'n_neighbors': 21},\n",
       " mean: 0.96667, std: 0.03333, params: {'n_neighbors': 22},\n",
       " mean: 0.97333, std: 0.03266, params: {'n_neighbors': 23},\n",
       " mean: 0.96000, std: 0.04422, params: {'n_neighbors': 24},\n",
       " mean: 0.96667, std: 0.03333, params: {'n_neighbors': 25},\n",
       " mean: 0.96000, std: 0.04422, params: {'n_neighbors': 26},\n",
       " mean: 0.96667, std: 0.04472, params: {'n_neighbors': 27},\n",
       " mean: 0.95333, std: 0.04269, params: {'n_neighbors': 28},\n",
       " mean: 0.95333, std: 0.04269, params: {'n_neighbors': 29},\n",
       " mean: 0.95333, std: 0.04269, params: {'n_neighbors': 30}]"
      ]
     },
     "execution_count": 8,
     "metadata": {},
     "output_type": "execute_result"
    }
   ],
   "source": [
    "grid.grid_scores_ #This is a named tuple"
   ]
  },
  {
   "cell_type": "code",
   "execution_count": 7,
   "metadata": {
    "collapsed": false,
    "scrolled": true
   },
   "outputs": [
    {
     "name": "stdout",
     "output_type": "stream",
     "text": [
      "{'n_neighbors': 1}\n",
      "[ 1.          0.93333333  1.          0.93333333  0.86666667  1.\n",
      "  0.86666667  1.          1.          1.        ]\n",
      "0.96\n"
     ]
    }
   ],
   "source": [
    "print grid.grid_scores_[0].parameters\n",
    "print grid.grid_scores_[0].cv_validation_scores\n",
    "print grid.grid_scores_[0].mean_validation_score"
   ]
  },
  {
   "cell_type": "code",
   "execution_count": 9,
   "metadata": {
    "collapsed": true
   },
   "outputs": [],
   "source": [
    "grid_mean_scores = [result.mean_validation_score for result in grid.grid_scores_]"
   ]
  },
  {
   "cell_type": "code",
   "execution_count": 10,
   "metadata": {
    "collapsed": false
   },
   "outputs": [
    {
     "data": {
      "text/plain": [
       "<matplotlib.text.Text at 0x9a8e048>"
      ]
     },
     "execution_count": 10,
     "metadata": {},
     "output_type": "execute_result"
    },
    {
     "data": {
      "image/png": "[encoded data removed]",
      "text/plain": [
       "<matplotlib.figure.Figure at 0x9a1eb70>"
      ]
     },
     "metadata": {},
     "output_type": "display_data"
    }
   ],
   "source": [
    "plt.plot(k_range, grid_mean_scores)\n",
    "plt.xlabel(\"K\")\n",
    "plt.ylabel(\"Accuracy\")"
   ]
  },
  {
   "cell_type": "code",
   "execution_count": 11,
   "metadata": {
    "collapsed": false
   },
   "outputs": [
    {
     "name": "stdout",
     "output_type": "stream",
     "text": [
      "0.98\n",
      "{'n_neighbors': 13}\n",
      "KNeighborsClassifier(algorithm='auto', leaf_size=30, metric='minkowski',\n",
      "           metric_params=None, n_jobs=1, n_neighbors=13, p=2,\n",
      "           weights='uniform')\n"
     ]
    }
   ],
   "source": [
    "print grid.best_score_\n",
    "print grid.best_params_\n",
    "print grid.best_estimator_"
   ]
  },
  {
   "cell_type": "markdown",
   "metadata": {},
   "source": [
    "## Searching multiple parameters simultaneously\n",
    "\n",
    "* Example: tuning max_depth and min_asmples_leaf for a DecisionTreeClassifier\n",
    "* Could tune parameters independently\n",
    "* But best performance might be achieved when neither parameter is at its default value\n",
    "* Need to search both simultaneously"
   ]
  },
  {
   "cell_type": "code",
   "execution_count": 12,
   "metadata": {
    "collapsed": false
   },
   "outputs": [
    {
     "name": "stdout",
     "output_type": "stream",
     "text": [
      "[mean: 0.96000, std: 0.05333, params: {'n_neighbors': 1, 'weights': 'uniform'}, mean: 0.96000, std: 0.05333, params: {'n_neighbors': 1, 'weights': 'distance'}, mean: 0.95333, std: 0.05207, params: {'n_neighbors': 2, 'weights': 'uniform'}, mean: 0.96000, std: 0.05333, params: {'n_neighbors': 2, 'weights': 'distance'}, mean: 0.96667, std: 0.04472, params: {'n_neighbors': 3, 'weights': 'uniform'}, mean: 0.96667, std: 0.04472, params: {'n_neighbors': 3, 'weights': 'distance'}, mean: 0.96667, std: 0.04472, params: {'n_neighbors': 4, 'weights': 'uniform'}, mean: 0.96667, std: 0.04472, params: {'n_neighbors': 4, 'weights': 'distance'}, mean: 0.96667, std: 0.04472, params: {'n_neighbors': 5, 'weights': 'uniform'}, mean: 0.96667, std: 0.04472, params: {'n_neighbors': 5, 'weights': 'distance'}, mean: 0.96667, std: 0.04472, params: {'n_neighbors': 6, 'weights': 'uniform'}, mean: 0.96667, std: 0.04472, params: {'n_neighbors': 6, 'weights': 'distance'}, mean: 0.96667, std: 0.04472, params: {'n_neighbors': 7, 'weights': 'uniform'}, mean: 0.96667, std: 0.04472, params: {'n_neighbors': 7, 'weights': 'distance'}, mean: 0.96667, std: 0.04472, params: {'n_neighbors': 8, 'weights': 'uniform'}, mean: 0.96667, std: 0.04472, params: {'n_neighbors': 8, 'weights': 'distance'}, mean: 0.97333, std: 0.03266, params: {'n_neighbors': 9, 'weights': 'uniform'}, mean: 0.97333, std: 0.03266, params: {'n_neighbors': 9, 'weights': 'distance'}, mean: 0.96667, std: 0.04472, params: {'n_neighbors': 10, 'weights': 'uniform'}, mean: 0.97333, std: 0.03266, params: {'n_neighbors': 10, 'weights': 'distance'}, mean: 0.96667, std: 0.04472, params: {'n_neighbors': 11, 'weights': 'uniform'}, mean: 0.97333, std: 0.03266, params: {'n_neighbors': 11, 'weights': 'distance'}, mean: 0.97333, std: 0.03266, params: {'n_neighbors': 12, 'weights': 'uniform'}, mean: 0.97333, std: 0.04422, params: {'n_neighbors': 12, 'weights': 'distance'}, mean: 0.98000, std: 0.03055, params: {'n_neighbors': 13, 'weights': 'uniform'}, mean: 0.97333, std: 0.03266, params: {'n_neighbors': 13, 'weights': 'distance'}, mean: 0.97333, std: 0.04422, params: {'n_neighbors': 14, 'weights': 'uniform'}, mean: 0.97333, std: 0.03266, params: {'n_neighbors': 14, 'weights': 'distance'}, mean: 0.97333, std: 0.03266, params: {'n_neighbors': 15, 'weights': 'uniform'}, mean: 0.98000, std: 0.03055, params: {'n_neighbors': 15, 'weights': 'distance'}, mean: 0.97333, std: 0.03266, params: {'n_neighbors': 16, 'weights': 'uniform'}, mean: 0.97333, std: 0.03266, params: {'n_neighbors': 16, 'weights': 'distance'}, mean: 0.97333, std: 0.03266, params: {'n_neighbors': 17, 'weights': 'uniform'}, mean: 0.98000, std: 0.03055, params: {'n_neighbors': 17, 'weights': 'distance'}, mean: 0.98000, std: 0.03055, params: {'n_neighbors': 18, 'weights': 'uniform'}, mean: 0.97333, std: 0.03266, params: {'n_neighbors': 18, 'weights': 'distance'}, mean: 0.97333, std: 0.03266, params: {'n_neighbors': 19, 'weights': 'uniform'}, mean: 0.98000, std: 0.03055, params: {'n_neighbors': 19, 'weights': 'distance'}, mean: 0.98000, std: 0.03055, params: {'n_neighbors': 20, 'weights': 'uniform'}, mean: 0.96667, std: 0.04472, params: {'n_neighbors': 20, 'weights': 'distance'}, mean: 0.96667, std: 0.03333, params: {'n_neighbors': 21, 'weights': 'uniform'}, mean: 0.96667, std: 0.04472, params: {'n_neighbors': 21, 'weights': 'distance'}, mean: 0.96667, std: 0.03333, params: {'n_neighbors': 22, 'weights': 'uniform'}, mean: 0.96667, std: 0.04472, params: {'n_neighbors': 22, 'weights': 'distance'}, mean: 0.97333, std: 0.03266, params: {'n_neighbors': 23, 'weights': 'uniform'}, mean: 0.97333, std: 0.03266, params: {'n_neighbors': 23, 'weights': 'distance'}, mean: 0.96000, std: 0.04422, params: {'n_neighbors': 24, 'weights': 'uniform'}, mean: 0.97333, std: 0.03266, params: {'n_neighbors': 24, 'weights': 'distance'}, mean: 0.96667, std: 0.03333, params: {'n_neighbors': 25, 'weights': 'uniform'}, mean: 0.97333, std: 0.03266, params: {'n_neighbors': 25, 'weights': 'distance'}, mean: 0.96000, std: 0.04422, params: {'n_neighbors': 26, 'weights': 'uniform'}, mean: 0.96667, std: 0.04472, params: {'n_neighbors': 26, 'weights': 'distance'}, mean: 0.96667, std: 0.04472, params: {'n_neighbors': 27, 'weights': 'uniform'}, mean: 0.98000, std: 0.03055, params: {'n_neighbors': 27, 'weights': 'distance'}, mean: 0.95333, std: 0.04269, params: {'n_neighbors': 28, 'weights': 'uniform'}, mean: 0.97333, std: 0.03266, params: {'n_neighbors': 28, 'weights': 'distance'}, mean: 0.95333, std: 0.04269, params: {'n_neighbors': 29, 'weights': 'uniform'}, mean: 0.97333, std: 0.03266, params: {'n_neighbors': 29, 'weights': 'distance'}, mean: 0.95333, std: 0.04269, params: {'n_neighbors': 30, 'weights': 'uniform'}, mean: 0.96667, std: 0.03333, params: {'n_neighbors': 30, 'weights': 'distance'}]\n"
     ]
    }
   ],
   "source": [
    "k_range = range(1, 31)\n",
    "weight_options = ['uniform', 'distance']\n",
    "\n",
    "param_grid = dict(n_neighbors=k_range, weights=weight_options) #Exhausts all possible combinations of these parameters\n",
    "grid = GridSearchCV(knn, param_grid, cv=10, scoring=\"accuracy\")\n",
    "grid.fit(x, y)\n",
    "print grid.grid_scores_"
   ]
  },
  {
   "cell_type": "code",
   "execution_count": 13,
   "metadata": {
    "collapsed": false
   },
   "outputs": [
    {
     "name": "stdout",
     "output_type": "stream",
     "text": [
      "0.98\n",
      "{'n_neighbors': 13, 'weights': 'uniform'}\n"
     ]
    }
   ],
   "source": [
    "print grid.best_score_\n",
    "print grid.best_params_ #Didn't change from perform"
   ]
  },
  {
   "cell_type": "markdown",
   "metadata": {},
   "source": [
    "# Using the best parameters to make predictions"
   ]
  },
  {
   "cell_type": "code",
   "execution_count": 15,
   "metadata": {
    "collapsed": false
   },
   "outputs": [
    {
     "data": {
      "text/plain": [
       "array([1])"
      ]
     },
     "execution_count": 15,
     "metadata": {},
     "output_type": "execute_result"
    }
   ],
   "source": [
    "knn = KNeighborsClassifier(n_neighbors=13, weights='uniform')\n",
    "# Once you know the best parameters to use, you want to use the entire dataset to train, not just a part\n",
    "knn.fit(x, y)\n",
    "\n",
    "knn.predict([[3, 5, 4, 2]])"
   ]
  },
  {
   "cell_type": "markdown",
   "metadata": {},
   "source": [
    "# Reducing computational expense using `RandomizedSearechCV`\n",
    "* Searching many different parameters at once is computationally infeasible\n",
    "* `RandomizedSearchCV` searches a subset of the parameters, and you control the computational \"budget\""
   ]
  },
  {
   "cell_type": "code",
   "execution_count": 19,
   "metadata": {
    "collapsed": true
   },
   "outputs": [],
   "source": [
    "from sklearn.grid_search import RandomizedSearchCV\n",
    "\n",
    "param_dist = dict(n_neighbors=k_range, weights=weight_options)\n",
    "# Specify parameter distributions, not parameter grid\n",
    "# For discrete values, where you pass a list of integers or strings\n",
    "# It ends up being the same"
   ]
  },
  {
   "cell_type": "code",
   "execution_count": 20,
   "metadata": {
    "collapsed": true
   },
   "outputs": [],
   "source": [
    "rand = RandomizedSearchCV(knn, param_dist, cv=10, scoring='accuracy', n_iter=10, random_state=5)"
   ]
  },
  {
   "cell_type": "code",
   "execution_count": 21,
   "metadata": {
    "collapsed": false
   },
   "outputs": [
    {
     "data": {
      "text/plain": [
       "[mean: 0.97333, std: 0.03266, params: {'n_neighbors': 18, 'weights': 'distance'},\n",
       " mean: 0.96667, std: 0.04472, params: {'n_neighbors': 8, 'weights': 'uniform'},\n",
       " mean: 0.97333, std: 0.03266, params: {'n_neighbors': 24, 'weights': 'distance'},\n",
       " mean: 0.98000, std: 0.03055, params: {'n_neighbors': 20, 'weights': 'uniform'},\n",
       " mean: 0.95333, std: 0.04269, params: {'n_neighbors': 28, 'weights': 'uniform'},\n",
       " mean: 0.97333, std: 0.03266, params: {'n_neighbors': 9, 'weights': 'uniform'},\n",
       " mean: 0.96667, std: 0.04472, params: {'n_neighbors': 5, 'weights': 'distance'},\n",
       " mean: 0.96667, std: 0.04472, params: {'n_neighbors': 5, 'weights': 'uniform'},\n",
       " mean: 0.97333, std: 0.03266, params: {'n_neighbors': 19, 'weights': 'uniform'},\n",
       " mean: 0.96667, std: 0.04472, params: {'n_neighbors': 20, 'weights': 'distance'}]"
      ]
     },
     "execution_count": 21,
     "metadata": {},
     "output_type": "execute_result"
    }
   ],
   "source": [
    "rand.fit(x, y)\n",
    "rand.grid_scores_"
   ]
  },
  {
   "cell_type": "code",
   "execution_count": 24,
   "metadata": {
    "collapsed": false
   },
   "outputs": [
    {
     "name": "stdout",
     "output_type": "stream",
     "text": [
      "0.98\n",
      "{'n_neighbors': 20, 'weights': 'uniform'}\n"
     ]
    }
   ],
   "source": [
    "print rand.best_score_\n",
    "print rand.best_params_ #Still gets something close to the best result, while being much faster_"
   ]
  }
 ],
 "metadata": {
  "kernelspec": {
   "display_name": "Python [Root]",
   "language": "python",
   "name": "Python [Root]"
  },
  "language_info": {
   "codemirror_mode": {
    "name": "ipython",
    "version": 2
   },
   "file_extension": ".py",
   "mimetype": "text/x-python",
   "name": "python",
   "nbconvert_exporter": "python",
   "pygments_lexer": "ipython2",
   "version": "2.7.12"
  }
 },
 "nbformat": 4,
 "nbformat_minor": 0
}
